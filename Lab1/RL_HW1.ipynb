{
  "nbformat": 4,
  "nbformat_minor": 0,
  "metadata": {
    "colab": {
      "provenance": []
    },
    "kernelspec": {
      "name": "python3",
      "display_name": "Python 3"
    },
    "language_info": {
      "name": "python"
    }
  },
  "cells": [
    {
      "cell_type": "markdown",
      "source": [
        "Reinforcement Learning Homework 1\n",
        "\n",
        "Aly Khater"
      ],
      "metadata": {
        "id": "9bdd2i7VCJZd"
      }
    },
    {
      "cell_type": "markdown",
      "source": [
        "#Greedy"
      ],
      "metadata": {
        "id": "LEYORO83gyKK"
      }
    },
    {
      "cell_type": "code",
      "source": [
        "import random\n",
        "import numpy as np\n",
        "import matplotlib.pyplot as plt"
      ],
      "metadata": {
        "id": "r4ByyXQwhIEv"
      },
      "execution_count": 20,
      "outputs": []
    },
    {
      "cell_type": "code",
      "execution_count": 21,
      "metadata": {
        "id": "OV-qwrYSgv5k"
      },
      "outputs": [],
      "source": [
        "class Bandit:\n",
        "  def __init__(self, p=None):\n",
        "    if p is None:\n",
        "      self.p = np.random.random()\n",
        "    else:\n",
        "      self.p = p\n",
        "    self.p_hat = 0\n",
        "    self.N = 0\n",
        "\n",
        "  def pull(self):\n",
        "    return int(np.random.random() < self.p)\n",
        "\n",
        "  def update(self,x):\n",
        "    self.N += 1\n",
        "    self.p_hat = ((self.N - 1) * self.p_hat + x) / self.N\n",
        "\n",
        "  def __call__(self):\n",
        "    return self.p_hat"
      ]
    },
    {
      "cell_type": "code",
      "source": [
        "N_TRIALS = 10000\n",
        "epsilon = 0.2\n",
        "p = [0.1,0.9]\n",
        "\n",
        "def randargmax(b):\n",
        "  return np.argmax(\n",
        "      np.random.random(b.shape) * (b==b.max())\n",
        "  )\n",
        "\n",
        "def greedy_strategy(slots):\n",
        "  n_slots = len(slots)\n",
        "  b = np.array([s() for s in slots])\n",
        "  j = randargmax(b)\n",
        "  x = slots[j].pull()\n",
        "  slots[j].update(x)\n",
        "  return j, x\n",
        "\n",
        "slots = [Bandit(p[j]) for j in range(len(p))]\n",
        "js = []\n",
        "\n",
        "for i in range(100):\n",
        "  j, x = greedy_strategy(slots)\n",
        "  print(f'{i:3} - sm {j} result={x} prob={slots[j]():5.3}')"
      ],
      "metadata": {
        "colab": {
          "base_uri": "https://localhost:8080/"
        },
        "collapsed": true,
        "id": "4gPdt5bmp6O4",
        "outputId": "1317a0f3-d635-4eff-f2bd-8abf1fa64279"
      },
      "execution_count": 22,
      "outputs": [
        {
          "output_type": "stream",
          "name": "stdout",
          "text": [
            "  0 - sm 0 result=0 prob=  0.0\n",
            "  1 - sm 0 result=0 prob=  0.0\n",
            "  2 - sm 0 result=0 prob=  0.0\n",
            "  3 - sm 1 result=1 prob=  1.0\n",
            "  4 - sm 1 result=0 prob=  0.5\n",
            "  5 - sm 1 result=0 prob=0.333\n",
            "  6 - sm 1 result=1 prob=  0.5\n",
            "  7 - sm 1 result=0 prob=  0.4\n",
            "  8 - sm 1 result=1 prob=  0.5\n",
            "  9 - sm 1 result=1 prob=0.571\n",
            " 10 - sm 1 result=1 prob=0.625\n",
            " 11 - sm 1 result=1 prob=0.667\n",
            " 12 - sm 1 result=1 prob=  0.7\n",
            " 13 - sm 1 result=1 prob=0.727\n",
            " 14 - sm 1 result=1 prob= 0.75\n",
            " 15 - sm 1 result=1 prob=0.769\n",
            " 16 - sm 1 result=1 prob=0.786\n",
            " 17 - sm 1 result=1 prob=  0.8\n",
            " 18 - sm 1 result=1 prob=0.812\n",
            " 19 - sm 1 result=1 prob=0.824\n",
            " 20 - sm 1 result=1 prob=0.833\n",
            " 21 - sm 1 result=1 prob=0.842\n",
            " 22 - sm 1 result=1 prob= 0.85\n",
            " 23 - sm 1 result=1 prob=0.857\n",
            " 24 - sm 1 result=1 prob=0.864\n",
            " 25 - sm 1 result=1 prob= 0.87\n",
            " 26 - sm 1 result=1 prob=0.875\n",
            " 27 - sm 1 result=0 prob= 0.84\n",
            " 28 - sm 1 result=1 prob=0.846\n",
            " 29 - sm 1 result=1 prob=0.852\n",
            " 30 - sm 1 result=1 prob=0.857\n",
            " 31 - sm 1 result=1 prob=0.862\n",
            " 32 - sm 1 result=1 prob=0.867\n",
            " 33 - sm 1 result=1 prob=0.871\n",
            " 34 - sm 1 result=1 prob=0.875\n",
            " 35 - sm 1 result=1 prob=0.879\n",
            " 36 - sm 1 result=1 prob=0.882\n",
            " 37 - sm 1 result=1 prob=0.886\n",
            " 38 - sm 1 result=1 prob=0.889\n",
            " 39 - sm 1 result=1 prob=0.892\n",
            " 40 - sm 1 result=1 prob=0.895\n",
            " 41 - sm 1 result=1 prob=0.897\n",
            " 42 - sm 1 result=1 prob=  0.9\n",
            " 43 - sm 1 result=1 prob=0.902\n",
            " 44 - sm 1 result=1 prob=0.905\n",
            " 45 - sm 1 result=1 prob=0.907\n",
            " 46 - sm 1 result=1 prob=0.909\n",
            " 47 - sm 1 result=1 prob=0.911\n",
            " 48 - sm 1 result=1 prob=0.913\n",
            " 49 - sm 1 result=1 prob=0.915\n",
            " 50 - sm 1 result=1 prob=0.917\n",
            " 51 - sm 1 result=1 prob=0.918\n",
            " 52 - sm 1 result=0 prob=  0.9\n",
            " 53 - sm 1 result=1 prob=0.902\n",
            " 54 - sm 1 result=1 prob=0.904\n",
            " 55 - sm 1 result=1 prob=0.906\n",
            " 56 - sm 1 result=1 prob=0.907\n",
            " 57 - sm 1 result=1 prob=0.909\n",
            " 58 - sm 1 result=1 prob=0.911\n",
            " 59 - sm 1 result=1 prob=0.912\n",
            " 60 - sm 1 result=0 prob=0.897\n",
            " 61 - sm 1 result=1 prob=0.898\n",
            " 62 - sm 1 result=1 prob=  0.9\n",
            " 63 - sm 1 result=1 prob=0.902\n",
            " 64 - sm 1 result=0 prob=0.887\n",
            " 65 - sm 1 result=1 prob=0.889\n",
            " 66 - sm 1 result=1 prob=0.891\n",
            " 67 - sm 1 result=1 prob=0.892\n",
            " 68 - sm 1 result=1 prob=0.894\n",
            " 69 - sm 1 result=1 prob=0.896\n",
            " 70 - sm 1 result=1 prob=0.897\n",
            " 71 - sm 1 result=1 prob=0.899\n",
            " 72 - sm 1 result=1 prob=  0.9\n",
            " 73 - sm 1 result=1 prob=0.901\n",
            " 74 - sm 1 result=1 prob=0.903\n",
            " 75 - sm 1 result=1 prob=0.904\n",
            " 76 - sm 1 result=1 prob=0.905\n",
            " 77 - sm 1 result=1 prob=0.907\n",
            " 78 - sm 1 result=1 prob=0.908\n",
            " 79 - sm 1 result=1 prob=0.909\n",
            " 80 - sm 1 result=1 prob= 0.91\n",
            " 81 - sm 1 result=0 prob=0.899\n",
            " 82 - sm 1 result=1 prob=  0.9\n",
            " 83 - sm 1 result=1 prob=0.901\n",
            " 84 - sm 1 result=1 prob=0.902\n",
            " 85 - sm 1 result=1 prob=0.904\n",
            " 86 - sm 1 result=1 prob=0.905\n",
            " 87 - sm 1 result=1 prob=0.906\n",
            " 88 - sm 1 result=0 prob=0.895\n",
            " 89 - sm 1 result=1 prob=0.897\n",
            " 90 - sm 1 result=0 prob=0.886\n",
            " 91 - sm 1 result=1 prob=0.888\n",
            " 92 - sm 1 result=1 prob=0.889\n",
            " 93 - sm 1 result=1 prob= 0.89\n",
            " 94 - sm 1 result=1 prob=0.891\n",
            " 95 - sm 1 result=1 prob=0.892\n",
            " 96 - sm 1 result=1 prob=0.894\n",
            " 97 - sm 1 result=1 prob=0.895\n",
            " 98 - sm 1 result=1 prob=0.896\n",
            " 99 - sm 1 result=0 prob=0.887\n"
          ]
        }
      ]
    },
    {
      "cell_type": "markdown",
      "source": [
        "#Epsilon-greedy with decay proportional to 1/t"
      ],
      "metadata": {
        "id": "hQwTYsQnvSCq"
      }
    },
    {
      "cell_type": "code",
      "source": [
        "class Bandit:\n",
        "  def __init__(self, m):\n",
        "    self.m = m\n",
        "    self.p_hat = 0\n",
        "    self.N = 0\n",
        "\n",
        "  def pull(self):\n",
        "    return self.m + np.random.randn()\n",
        "\n",
        "  def update(self,x):\n",
        "    self.N += 1\n",
        "    self.p_hat = ((self.N - 1) * self.p_hat + x) / self.N\n",
        "\n",
        "  def __call__(self):\n",
        "    return self.p_hat\n"
      ],
      "metadata": {
        "id": "mOqk3TaFkiOs"
      },
      "execution_count": 23,
      "outputs": []
    },
    {
      "cell_type": "code",
      "source": [
        "N_TRIALS = 10000\n",
        "epsilon = 0.2\n",
        "m = [3, 7, 10]\n",
        "\n",
        "def epsilon_greedy_strategy(epsilon, slots):\n",
        "  n_slots = len(slots)\n",
        "  p = np.random.random()\n",
        "  if p < epsilon:\n",
        "    j = np.random.choice(n_slots)\n",
        "  else:\n",
        "    j = np.argmax([s() for s in slots])\n",
        "  x = slots[j].pull()\n",
        "  slots[j].update(x)\n",
        "\n",
        "np.random.seed(42)\n",
        "slots = [Bandit(mi) for mi in m] # Create Bandit objects for each value in m\n",
        "rewards = []\n",
        "for t in range(1,N_TRIALS+1):\n",
        "  epsilon = 1/t\n",
        "  epsilon_greedy_strategy(epsilon, slots)\n",
        "  n = np.sum([int(s.p_hat * s.N) for s in slots])\n",
        "  d = np.sum([s.N for s in slots])\n",
        "  rewards.append((n/d)/10)\n",
        "\n",
        "print([int(s.N) for s in slots])\n",
        "print([np.round(s(), 4) for s in slots])"
      ],
      "metadata": {
        "colab": {
          "base_uri": "https://localhost:8080/"
        },
        "id": "vwMwLlY4la5A",
        "outputId": "9d7628a6-5e77-44df-f6b4-6f386b480442"
      },
      "execution_count": 24,
      "outputs": [
        {
          "output_type": "stream",
          "name": "stdout",
          "text": [
            "[9, 2, 9989]\n",
            "[2.9882, 6.7106, 9.9839]\n"
          ]
        }
      ]
    },
    {
      "cell_type": "code",
      "source": [
        "#expected_reward = (1 - epsilon) * np.max(p) + epsilon * (np.mean(p))\n",
        "expected_reward = [3,7,10]\n",
        "n = np.sum([int(s.p_hat * s.N) for s in slots])\n",
        "d = np.sum([s.N for s in slots])\n",
        "print(f'Expected gain {np.round(n/d, 3)}')\n",
        "print(f'Computed expected results is {np.round(expected_reward, 3)}')\n",
        "plt.plot(rewards)"
      ],
      "metadata": {
        "colab": {
          "base_uri": "https://localhost:8080/",
          "height": 482
        },
        "id": "PMza4mUAxYrA",
        "outputId": "5a6dc46c-338a-4955-de75-5574544d7a01"
      },
      "execution_count": 25,
      "outputs": [
        {
          "output_type": "stream",
          "name": "stdout",
          "text": [
            "Expected gain 9.977\n",
            "Computed expected results is [ 3  7 10]\n"
          ]
        },
        {
          "output_type": "execute_result",
          "data": {
            "text/plain": [
              "[<matplotlib.lines.Line2D at 0x7842ca8fe0e0>]"
            ]
          },
          "metadata": {},
          "execution_count": 25
        },
        {
          "output_type": "display_data",
          "data": {
            "text/plain": [
              "<Figure size 640x480 with 1 Axes>"
            ],
            "image/png": "[encoded data removed]"
          },
          "metadata": {}
        }
      ]
    },
    {
      "cell_type": "markdown",
      "source": [
        "#Optimistic initial values"
      ],
      "metadata": {
        "id": "Ov0WCEFH0tXy"
      }
    },
    {
      "cell_type": "code",
      "source": [
        "class Bandit:\n",
        "  def __init__(self, p=None):\n",
        "    if p is None:\n",
        "      self.p = np.random.random()\n",
        "    else:\n",
        "      self.p = p\n",
        "    self.p_hat = 1000\n",
        "    self.N = 0\n",
        "\n",
        "  def pull(self):\n",
        "    return int(np.random.random() < self.p)\n",
        "\n",
        "  def update(self,x):\n",
        "    self.N += 1\n",
        "    self.p_hat = ((self.N - 1) * self.p_hat + x) / self.N\n",
        "\n",
        "  def __call__(self):\n",
        "    return self.p_hat"
      ],
      "metadata": {
        "id": "riehUikDpAvM"
      },
      "execution_count": 26,
      "outputs": []
    },
    {
      "cell_type": "code",
      "source": [
        "N_TRIALS = 10000\n",
        "epsilon = 0.2\n",
        "p = [.1,.9]\n",
        "\n",
        "def randargmax(b):\n",
        "  return np.argmax(\n",
        "      np.random.random(b.shape) * (b==b.max())\n",
        "  )\n",
        "\n",
        "def greedy_strategy(slots):\n",
        "  n_slots = len(slots)\n",
        "  b = np.array([s() for s in slots])\n",
        "  j = randargmax(b)\n",
        "  x = slots[j].pull()\n",
        "  slots[j].update(x)\n",
        "  return j,x\n",
        "\n",
        "slots = [Bandit(p[j]) for j in range(len(p))]\n",
        "js = []\n",
        "\n",
        "rewards = []\n",
        "for _ in range(N_TRIALS+1):\n",
        "  greedy_strategy(slots)\n",
        "  n = np.sum([int(s.p_hat * s.N) for s in slots])\n",
        "  d = np.sum([s.N for s in slots])\n",
        "  rewards.append(n/d)\n",
        "#for i in range(100):\n",
        "#  j, x = greedy_strategy(slots)\n",
        "#  print(f'{i:3} - sm {j} result={x} prob={slots[j]():5.3}')\n",
        "print([int(s.N) for s in slots])\n",
        "print([np.round(s(), 4) for s in slots])"
      ],
      "metadata": {
        "colab": {
          "base_uri": "https://localhost:8080/"
        },
        "collapsed": true,
        "id": "kSrmSouy1QKn",
        "outputId": "203b5a6d-4278-454c-d5ed-7152e643f635"
      },
      "execution_count": 27,
      "outputs": [
        {
          "output_type": "stream",
          "name": "stdout",
          "text": [
            "[1, 10000]\n",
            "[0.0, 0.8962]\n"
          ]
        }
      ]
    },
    {
      "cell_type": "code",
      "source": [
        "expected_reward = [3,7,10]\n",
        "n = np.sum([int(s.p_hat * s.N) for s in slots])\n",
        "d = np.sum([s.N for s in slots])\n",
        "\n",
        "print(f'Expected gain {np.round(n/d, 3)}')\n",
        "print(f'Computed expected results is {np.round(expected_reward, 3)}')\n",
        "plt.plot(rewards)"
      ],
      "metadata": {
        "colab": {
          "base_uri": "https://localhost:8080/",
          "height": 482
        },
        "id": "GMgz9sVr1a9B",
        "outputId": "3b3d3f8f-914e-453d-b7bf-5618baad9a61"
      },
      "execution_count": 28,
      "outputs": [
        {
          "output_type": "stream",
          "name": "stdout",
          "text": [
            "Expected gain 0.896\n",
            "Computed expected results is [ 3  7 10]\n"
          ]
        },
        {
          "output_type": "execute_result",
          "data": {
            "text/plain": [
              "[<matplotlib.lines.Line2D at 0x7842ca966f50>]"
            ]
          },
          "metadata": {},
          "execution_count": 28
        },
        {
          "output_type": "display_data",
          "data": {
            "text/plain": [
              "<Figure size 640x480 with 1 Axes>"
            ],
            "image/png": "[encoded data removed]"
          },
          "metadata": {}
        }
      ]
    },
    {
      "cell_type": "markdown",
      "source": [
        "#UCB1"
      ],
      "metadata": {
        "id": "kq9WwNgm3XyU"
      }
    },
    {
      "cell_type": "code",
      "source": [
        "class Bandit:\n",
        "  def __init__(self, p=None):\n",
        "    if p is None:\n",
        "      self.p = np.random.random()\n",
        "    else:\n",
        "      self.p = p\n",
        "    self.p_hat = 0\n",
        "    self.N = 0\n",
        "\n",
        "  def pull(self):\n",
        "    return int(np.random.random() < self.p)\n",
        "\n",
        "  def update(self,x):\n",
        "    self.N += 1\n",
        "    self.p_hat = ((self.N - 1) * self.p_hat + x) / self.N\n",
        "\n",
        "  def __call__(self):\n",
        "    return self.p_hat"
      ],
      "metadata": {
        "id": "aNO4qx7nq_44"
      },
      "execution_count": 29,
      "outputs": []
    },
    {
      "cell_type": "code",
      "source": [
        "N_TRIALS = 10000\n",
        "epsilon = 0.2\n",
        "p = [.1,.9]\n",
        "\n",
        "def ucb1(epsilon, slots):\n",
        "  n_slots = len(slots)\n",
        "  p = np.random.random()\n",
        "  n = np.sum(N_TRIALS)\n",
        "  sample_means = [s() + np.sqrt(2 * np.log(n) / s.N) for s in slots]\n",
        "  j = np.argmax(sample_means)\n",
        "  #sample_means = [s() for s in slots]\n",
        "  #j = np.argmax(sample_means)\n",
        "  x = slots[j].pull()\n",
        "  slots[j].update(x)\n",
        "\n",
        "np.random.seed(42)\n",
        "slots = [Bandit(p[i]) for i in range(len(p))]\n",
        "rewards = []\n",
        "for _ in range(N_TRIALS):\n",
        "  ucb1(epsilon, slots)\n",
        "  n = np.sum([int(s.p_hat * s.N) for s in slots])\n",
        "  d = np.sum([s.N for s in slots])\n",
        "  rewards.append(n/d)\n",
        "\n",
        "print([int(s.N) for s in slots])\n",
        "print([np.round(s(), 4) for s in slots])\n",
        "print([np.round(s.p, 4) for s in slots])"
      ],
      "metadata": {
        "colab": {
          "base_uri": "https://localhost:8080/"
        },
        "id": "90wFVx293Zp0",
        "outputId": "2444fad3-22e4-473d-eeb7-e176bbed4460"
      },
      "execution_count": 30,
      "outputs": [
        {
          "output_type": "stream",
          "name": "stderr",
          "text": [
            "<ipython-input-30-395eab803136>:9: RuntimeWarning: divide by zero encountered in scalar divide\n"
          ]
        },
        {
          "output_type": "stream",
          "name": "stdout",
          "text": [
            "[23, 9977]\n",
            "[0.0435, 0.9025]\n",
            "[0.1, 0.9]\n"
          ]
        }
      ]
    },
    {
      "cell_type": "code",
      "source": [
        "expected_reward = (1 - epsilon) * np.max(p) + epsilon * (np.mean(p))\n",
        "n = np.sum([int(s.p_hat * s.N) for s in slots])\n",
        "d = np.sum([s.N for s in slots])\n",
        "print(f'Expected gain {np.round(n/d, 3)}')\n",
        "print(f'Computed expected results is {np.round(expected_reward, 3)}')\n",
        "plt.plot(rewards)"
      ],
      "metadata": {
        "colab": {
          "base_uri": "https://localhost:8080/",
          "height": 482
        },
        "id": "7X0JmdDm3iwn",
        "outputId": "f9f75120-0c0b-4a74-9141-86cb66d2db47"
      },
      "execution_count": 31,
      "outputs": [
        {
          "output_type": "stream",
          "name": "stdout",
          "text": [
            "Expected gain 0.9\n",
            "Computed expected results is 0.82\n"
          ]
        },
        {
          "output_type": "execute_result",
          "data": {
            "text/plain": [
              "[<matplotlib.lines.Line2D at 0x7842ca711fc0>]"
            ]
          },
          "metadata": {},
          "execution_count": 31
        },
        {
          "output_type": "display_data",
          "data": {
            "text/plain": [
              "<Figure size 640x480 with 1 Axes>"
            ],
            "image/png": "[encoded data removed]"
          },
          "metadata": {}
        }
      ]
    },
    {
      "cell_type": "markdown",
      "source": [
        "#Thompson Sampling"
      ],
      "metadata": {
        "id": "p8DBZgyx_rbj"
      }
    },
    {
      "cell_type": "code",
      "source": [
        "\n",
        "\n",
        "# True mean rewards of each arm\n",
        "actual_means = [3, 7, 10]\n",
        "true_std_dev = 1\n",
        "\n",
        "\n",
        "# Starting with a prior mean of 0 and precision of 1\n",
        "arms_params = [[0, 1] for _ in actual_means]\n",
        "\n",
        "# Running Thompson Sampling for Gaussian rewards\n",
        "N_TRIALS = 10000\n",
        "rewards = []\n",
        "\n",
        "for trial in range(N_TRIALS):\n",
        "    samples = [\n",
        "        np.random.normal(mean, 1.0 / np.sqrt(precision))\n",
        "        for mean, precision in arms_params\n",
        "    ]\n",
        "\n",
        "    # Pick the arm with the highest sampled estimate\n",
        "    best_arm = np.argmax(samples)\n",
        "\n",
        "    # Pull the chosen arm and get a reward\n",
        "    reward = np.random.normal(actual_means[best_arm], true_std_dev)\n",
        "\n",
        "    mean, precision = arms_params[best_arm]\n",
        "    new_precision = precision + 1\n",
        "    new_mean = (precision * mean + reward) / new_precision\n",
        "\n",
        "    arms_params[best_arm] = [new_mean, new_precision]\n",
        "\n",
        "    # Logging reward\n",
        "    rewards.append(reward)\n",
        "\n",
        "# Calculating the expected gain from the estimated mean rewards\n",
        "n = np.sum([mean * precision for mean, precision in arms_params])\n",
        "d = np.sum([precision for _, precision in arms_params])\n",
        "expected_gain = n / d\n",
        "print(f'Expected gain: {np.round(expected_gain, 3)}')\n",
        "print(f'Computed expected results are: {np.round(actual_means, 3)}')\n",
        "\n",
        "\n"
      ],
      "metadata": {
        "colab": {
          "base_uri": "https://localhost:8080/"
        },
        "collapsed": true,
        "id": "8OTIJGg0CIF1",
        "outputId": "b7013a2a-051b-4a24-9ca7-1a890911c27b"
      },
      "execution_count": 32,
      "outputs": [
        {
          "output_type": "stream",
          "name": "stdout",
          "text": [
            "Expected gain: 9.994\n",
            "Computed expected results are: [ 3  7 10]\n"
          ]
        }
      ]
    },
    {
      "cell_type": "code",
      "source": [
        "# Plotting the rewards over time\n",
        "plt.figure()\n",
        "plt.plot(rewards)\n",
        "plt.xlabel(\"Number of Trials\")\n",
        "plt.ylabel(\"Reward\")\n",
        "plt.title(\"Rewards Obtained Over Time in Thompson Sampling\")\n",
        "plt.grid(True)\n",
        "plt.show()"
      ],
      "metadata": {
        "colab": {
          "base_uri": "https://localhost:8080/",
          "height": 472
        },
        "id": "pL9Q_qM6GrPg",
        "outputId": "e88e76b7-0f09-4201-b37d-c04471eca93d"
      },
      "execution_count": 33,
      "outputs": [
        {
          "output_type": "display_data",
          "data": {
            "text/plain": [
              "<Figure size 640x480 with 1 Axes>"
            ],
            "image/png": "[encoded data removed]"
          },
          "metadata": {}
        }
      ]
    },
    {
      "cell_type": "code",
      "source": [
        "#!unzip src.zip"
      ],
      "metadata": {
        "id": "6TkeKy5q_su3",
        "collapsed": true
      },
      "execution_count": 34,
      "outputs": []
    },
    {
      "cell_type": "code",
      "source": [
        "import sys\n",
        "sys.path.append('/content/base/')\n",
        "\n",
        "!ls /content/\n",
        "import importlib\n",
        "from base import config_lib  # or from base import config_lib\n",
        "importlib.reload(config_lib)"
      ],
      "metadata": {
        "colab": {
          "base_uri": "https://localhost:8080/"
        },
        "id": "_lGjzDY7ALfJ",
        "outputId": "249f8909-83ce-4200-e624-85314448ffcb"
      },
      "execution_count": 35,
      "outputs": [
        {
          "output_type": "stream",
          "name": "stdout",
          "text": [
            "assortment\t   batch_runner.py  finite_arm\t     news_recommendation   simple_example.py\n",
            "base\t\t   cascading\t    graph\t     reproduce_figures.py  src.zip\n",
            "batch_analysis.py  ensemble_nn\t    local_runner.py  sample_data\n"
          ]
        },
        {
          "output_type": "execute_result",
          "data": {
            "text/plain": [
              "<module 'base.config_lib' from '/content/base/config_lib.py'>"
            ]
          },
          "metadata": {},
          "execution_count": 35
        }
      ]
    },
    {
      "cell_type": "code",
      "source": [
        "import os\n",
        "import sys\n",
        "\n",
        "from base import config_lib\n",
        "\n",
        "import numpy as np\n",
        "import pandas as pd\n",
        "import plotnine as gg\n",
        "\n",
        "from base.experiment import BaseExperiment\n",
        "from finite_arm.agent_finite import FiniteBernoulliBanditTS\n",
        "from finite_arm.env_finite import FiniteArmedBernoulliBandit\n",
        "\n",
        "sys.path.append(os.getcwd())"
      ],
      "metadata": {
        "id": "hKCyshdkAOey"
      },
      "execution_count": 36,
      "outputs": []
    },
    {
      "cell_type": "code",
      "source": [
        "probs = [0.1,0.9]\n",
        "n_steps = 10000\n",
        "seed = 0\n",
        "\n",
        "agent = FiniteBernoulliBanditTS(n_arm=len(probs))\n",
        "env = FiniteArmedBernoulliBandit(probs)\n",
        "experiment = BaseExperiment(\n",
        "    agent, env, n_steps=n_steps, seed=seed, unique_id='example')\n",
        "\n",
        "experiment.run_experiment()"
      ],
      "metadata": {
        "id": "FHQ4zkvzA_Jx"
      },
      "execution_count": 37,
      "outputs": []
    },
    {
      "cell_type": "code",
      "source": [
        "p = (gg.ggplot(experiment.results)\n",
        "     + gg.aes(x='t', y='instant_regret', colour='unique_id')\n",
        "     + gg.geom_line())\n",
        "print(p)"
      ],
      "metadata": {
        "colab": {
          "base_uri": "https://localhost:8080/",
          "height": 552
        },
        "id": "e00GoR0tBZ-x",
        "outputId": "f8a08613-91e2-47d3-c18e-0928217c3347"
      },
      "execution_count": 38,
      "outputs": [
        {
          "output_type": "stream",
          "name": "stderr",
          "text": [
            "<ipython-input-38-117f6c20d337>:4: FutureWarning: Using print(plot) to draw and show the plot figure is deprecated and will be removed in a future version. Use plot.show().\n"
          ]
        },
        {
          "output_type": "display_data",
          "data": {
            "image/png": "[encoded data removed]"
          },
          "metadata": {
            "image/png": {
              "width": 640,
              "height": 480
            }
          }
        },
        {
          "output_type": "stream",
          "name": "stdout",
          "text": [
            "\n"
          ]
        }
      ]
    },
    {
      "cell_type": "code",
      "source": [],
      "metadata": {
        "id": "sEjYzyP8BbGr"
      },
      "execution_count": 38,
      "outputs": []
    }
  ]
}